{
 "cells": [
  {
   "cell_type": "markdown",
   "id": "22122464",
   "metadata": {},
   "source": [
    "# Пример простого импорта и запуска расчета c python API\n",
    "\n",
    "Хабибуллин Ринат\n",
    "\n",
    "версия 0.2 от 20.02.2023\n",
    "\n",
    "***\n",
    "Пример показывает как можно подключиться к `python API` для `Unifloc VBA` и сделать простой расчет.\n",
    "\n",
    "\n",
    "Работать будет только под windows так как расчеты проводит в итоге Excel\n"
   ]
  },
  {
   "cell_type": "code",
   "execution_count": 2,
   "id": "d487a474",
   "metadata": {},
   "outputs": [
    {
     "name": "stdout",
     "output_type": "stream",
     "text": [
      "Путь к надстройке Unifloc VBA -- C:\\unifloc\\unifloc_vba\\UniflocVBA_7.xlam\n",
      "объект unf обеспечивает доступ к API Unifloc VBA\n"
     ]
    }
   ],
   "source": [
    "\"\"\"\n",
    "Импорт унифлока зависит от корректных путей к надстройке\n",
    "Путь задается вручную в явном виде (так проще всего)\n",
    "\"\"\"\n",
    "\n",
    "unifloc_path = r'C:\\unifloc\\unifloc_vba'\n",
    "unifloc_xlam = unifloc_path +r'\\UniflocVBA_7.xlam'\n",
    "print('Путь к надстройке Unifloc VBA -- '+ unifloc_xlam)\n",
    "\n",
    "import sys\n",
    "sys.path.insert(0, unifloc_path) # добавим в путь поиска пакетов python папку где находится репозиторий Unifloc VBA\n",
    "import unifloc_vba_python_api.python_api as unifloc # импортируем python_api для Unifloc VBA\n",
    "\n",
    "# создаем объект имеющий доступ к расчетам Unifloc VBA\n",
    "unf = unifloc.API(unifloc_xlam)\n",
    "\n",
    "print('объект unf обеспечивает доступ к API Unifloc VBA')"
   ]
  },
  {
   "cell_type": "code",
   "execution_count": 3,
   "id": "e0b44f5e",
   "metadata": {},
   "outputs": [],
   "source": [
    "# импортируем дополнительные библиотеки \n",
    "import matplotlib.pyplot as plt\n",
    "import numpy as np"
   ]
  },
  {
   "cell_type": "markdown",
   "id": "a878eb55",
   "metadata": {},
   "source": [
    "## Задаем параметры флюида и формируем json строку кодирующую параметры флюида"
   ]
  },
  {
   "cell_type": "markdown",
   "id": "751a1fc9",
   "metadata": {},
   "source": [
    "Подсказку по аргументам функций unifloc VBA можно получить используя функцию `help`или можно посмотреть непосредственно в коде. Ниже приведен пример. Обратите внимание, python чувствителен к регистру, поэтому надо в описании смотреть на строку задания функции где перечислены все аргументы с заданными значениями по умолчанию. В развернутом описании аргументов регистр может отличаться."
   ]
  },
  {
   "cell_type": "code",
   "execution_count": 4,
   "id": "f5d17583",
   "metadata": {},
   "outputs": [
    {
     "name": "stdout",
     "output_type": "stream",
     "text": [
      "Help on method encode_PVT in module unifloc_vba_python_api.python_api:\n",
      "\n",
      "encode_PVT(gamma_gas=0.6, gamma_oil=0.86, gamma_wat=1, rsb_m3m3=100, pb_atma=0, t_res_C=80, bob_m3m3=0, muob_cP=0, PVT_corr_set=0) method of unifloc_vba_python_api.python_api.API instance\n",
      "    ========== description ==============\n",
      "    Функция кодирования параметров PVT в строку,  для передачи PVT свойств в прикладные функции Унифлок.\n",
      "\n",
      "    ==========  arguments  ==============\n",
      "\n",
      "        gamma_gas - удельная плотность газа, по воздуху.  по умолчанию const_gg_ = 0.6\n",
      "\n",
      "        gamma_oil - удельная плотность нефти, по воде.  по умолчанию const_go_ = 0.86\n",
      "\n",
      "        gamma_wat - удельная плотность воды, по воде.  по умолчанию const_gw_ = 1\n",
      "\n",
      "        rsb_m3m3 - газосодержание при давлении насыщения, м3/м3.  по умолчанию const_rsb_default = 100\n",
      "\n",
      "        pb_atma - давление насыщения при заданной температуре, атма.  опциональный калибровочный параметр,  если не задан или = 0, то рассчитается по корреляции.\n",
      "\n",
      "        t_res_c - пластовая температура, с.  учитывается при расчете давления насыщения.  по умолчанию const_tres_default = 90\n",
      "\n",
      "        bob_m3m3 - объемный коэффициент нефти при давлении насыщения  и пластовой температуре, м3/м3.  по умолчанию рассчитывается по корреляции.\n",
      "\n",
      "        muob_cp - вязкость нефти при давлении насыщения.  и пластовой температуре, сп.  по умолчанию рассчитывается по корреляции.\n",
      "\n",
      "        pvt_corr_set - номер набора pvt корреляций для расчета:  0 - на основе корреляции стендинга;  1 - на основе кор-ии маккейна;  2 - на основе упрощенных зависимостей.\n",
      "\n"
     ]
    }
   ],
   "source": [
    "help(unf.encode_PVT)"
   ]
  },
  {
   "cell_type": "code",
   "execution_count": 5,
   "id": "7269b57b",
   "metadata": {},
   "outputs": [
    {
     "name": "stdout",
     "output_type": "stream",
     "text": [
      "{\"gamma_gas\":0.8,\"gamma_oil\":0.82,\"gamma_wat\":1.1,\"rsb_m3m3\":120,\"pb_atma\":150,\"t_res_C\":80,\"bob_m3m3\":1.2,\"muob_cP\":0.5,\"PVT_corr_set\":0}\n"
     ]
    }
   ],
   "source": [
    "# задаем флюид задавая все параметры.\n",
    "# для наглядности используем имена аргументов для задания значений\n",
    "fluid = unf.encode_PVT(gamma_gas=0.8, \n",
    "                       gamma_oil=0.82, \n",
    "                       gamma_wat=1.1, \n",
    "                       rsb_m3m3=120, \n",
    "                       pb_atma=150, \n",
    "                       t_res_C=80, \n",
    "                       bob_m3m3=1.2, \n",
    "                       muob_cP=0.5, \n",
    "                       PVT_corr_set=0)\n",
    "# выведем итоговую json строку\n",
    "print(fluid)"
   ]
  },
  {
   "cell_type": "markdown",
   "id": "e8becf3f",
   "metadata": {},
   "source": [
    "## Расчет газосодержания в нефти\n",
    "\n",
    "Для примера рассчитаем значение газосодержания $r_s$ в заданной нефти и построим график зависимости газосодержания от давления"
   ]
  },
  {
   "cell_type": "code",
   "execution_count": 6,
   "id": "2f342524",
   "metadata": {},
   "outputs": [
    {
     "name": "stdout",
     "output_type": "stream",
     "text": [
      "Help on method PVT_rs_m3m3 in module unifloc_vba_python_api.python_api:\n",
      "\n",
      "PVT_rs_m3m3(p_atma, t_C, PVT_prop='') method of unifloc_vba_python_api.python_api.API instance\n",
      "    ========== description ==============\n",
      "    расчет газосодержания при заданных p,t\n",
      "\n",
      "    ==========  arguments  ==============\n",
      "\n",
      "        p_atma - давление, атм\n",
      "\n",
      "        t_c - температура, с.\n",
      "\n",
      "        pvt_prop - строка с параметрами флюида,  используйте encode_pvt для ее генерации,  если задана перекрывает остальные параметры\n",
      "\n"
     ]
    }
   ],
   "source": [
    "help(unf.PVT_rs_m3m3)"
   ]
  },
  {
   "cell_type": "code",
   "execution_count": 7,
   "id": "9a697265",
   "metadata": {},
   "outputs": [
    {
     "name": "stdout",
     "output_type": "stream",
     "text": [
      "0.28612023857689795\n"
     ]
    }
   ],
   "source": [
    "# пример расчета газосодерждания при давлении 1 атм, и температуре 80 C\n",
    "rs = unf.PVT_rs_m3m3(1, 80, fluid)\n",
    "print(rs)"
   ]
  },
  {
   "cell_type": "code",
   "execution_count": 8,
   "id": "f658c9f2",
   "metadata": {},
   "outputs": [
    {
     "name": "stdout",
     "output_type": "stream",
     "text": [
      "0.28612023857689795\n"
     ]
    }
   ],
   "source": [
    "# удобнее для чтения кода при вызове функций указывать названия аргументов\n",
    "rs = unf.PVT_rs_m3m3(p_atma=1, t_C=80, PVT_prop=fluid)\n",
    "print(rs)"
   ]
  },
  {
   "cell_type": "code",
   "execution_count": 9,
   "id": "0e848592",
   "metadata": {},
   "outputs": [
    {
     "data": {
      "image/png": "[encoded data removed]",
      "text/plain": [
       "<Figure size 640x480 with 1 Axes>"
      ]
     },
     "metadata": {},
     "output_type": "display_data"
    }
   ],
   "source": [
    "# для отрисовки графика сформируем массив давлений и рассчитаем для него значения газосодержания\n",
    "plist = np.arange(1,300,2)\n",
    "rslist = np.array([unf.PVT_rs_m3m3(p_atma=pi, t_C=80, PVT_prop=fluid) for pi in plist])\n",
    "\n",
    "plt.plot(plist, rslist)\n",
    "plt.show()"
   ]
  },
  {
   "cell_type": "markdown",
   "id": "5bc46b57",
   "metadata": {},
   "source": [
    "В Unifloc VAB python API генерируются функции не поддерживающие векторные расчеты numpy. В некоторых случаях для повышения наглядности расчетного кода необходимые функции можно векторизовать самостоятельно. Пример приведен ниже"
   ]
  },
  {
   "cell_type": "code",
   "execution_count": 10,
   "id": "2eaaf164",
   "metadata": {},
   "outputs": [],
   "source": [
    "# векторизуем функцию расчета газосодержания\n",
    "rs_m3m3 = np.vectorize(unf.PVT_rs_m3m3)"
   ]
  },
  {
   "cell_type": "code",
   "execution_count": 11,
   "id": "bf92d59e",
   "metadata": {},
   "outputs": [
    {
     "data": {
      "image/png": "[encoded data removed]",
      "text/plain": [
       "<Figure size 640x480 with 1 Axes>"
      ]
     },
     "metadata": {},
     "output_type": "display_data"
    }
   ],
   "source": [
    "# для отрисовки графика сформируем массив давлений и рассчитаем для него значения газосодержания\n",
    "plist = np.arange(1,300,2)\n",
    "\n",
    "rslist = rs_m3m3(p_atma=plist, t_C=60, PVT_prop=fluid) \n",
    "plt.plot(plist, rslist)\n",
    "\n",
    "rslist = rs_m3m3(p_atma=plist, t_C=80, PVT_prop=fluid) \n",
    "plt.plot(plist, rslist)\n",
    "\n",
    "rslist = rs_m3m3(p_atma=plist, t_C=100, PVT_prop=fluid) \n",
    "plt.plot(plist, rslist)\n",
    "\n",
    "plt.show()"
   ]
  },
  {
   "cell_type": "markdown",
   "id": "87360ff8",
   "metadata": {},
   "source": [
    "Графики можно укасить, добавить подписи и легенду. Оставим это читателю в качестве упражнения"
   ]
  },
  {
   "cell_type": "markdown",
   "id": "0812e2ba",
   "metadata": {},
   "source": [
    "# Работа с результатами в виде json строк\n",
    "\n",
    "Многие функции Unifloc VBA могут выдавать результаты в виде json строк. Это может оказаться удобным для работы в python. Ниже базовый пример получения и расшифровки подобных результатов"
   ]
  },
  {
   "cell_type": "code",
   "execution_count": 12,
   "id": "8ff24161",
   "metadata": {},
   "outputs": [
    {
     "data": {
      "text/plain": [
       "'{\"rs_m3m3\":6.02,\"pb_atma\":119.457,\"bo_m3m3\":1.006,\"bg_m3m3\":0.097,\"bw_m3m3\":1.001,\"mu_oil_cP\":11.922,\"mu_gas_cP\":0.01,\"mu_wat_cP\":1.261,\"rho_oil_rc_kgm3\":821.008,\"rho_gas_rc_kgm3\":10.099,\"rho_wat_rc_kgm3\":1098.447,\"compressibility_oil_1atm\":0.070615,\"compressibility_gas_1atm\":0.103882,\"compressibility_wat_1atm\":0.000033,\"sigma_liq_Nm\":0.028,\"sigma_oil_gas_Nm\":0.028,\"sigma_wat_gas_Nm\":0.064,\"cp_oil_JkgC\":2404.42,\"cp_gas_JkgC\":1779.876,\"cv_gas_JkgC\":1434.634,\"cp_wat_JkgC\":4176,\"z\":0.964,\"sal_ppm\":136861.032}'"
      ]
     },
     "execution_count": 12,
     "metadata": {},
     "output_type": "execute_result"
    }
   ],
   "source": [
    "unf.PVT_calc(10,20, fluid)"
   ]
  },
  {
   "cell_type": "markdown",
   "id": "d8ab380c",
   "metadata": {},
   "source": [
    "Для работы с json можно импортировать соответствующий модуль. Документацию к нему легко найти в интернете."
   ]
  },
  {
   "cell_type": "code",
   "execution_count": 13,
   "id": "58067064",
   "metadata": {},
   "outputs": [],
   "source": [
    "import json"
   ]
  },
  {
   "cell_type": "code",
   "execution_count": 14,
   "id": "807a8979",
   "metadata": {},
   "outputs": [
    {
     "name": "stdout",
     "output_type": "stream",
     "text": [
      "{'rs_m3m3': 6.02, 'pb_atma': 119.457, 'bo_m3m3': 1.006, 'bg_m3m3': 0.097, 'bw_m3m3': 1.001, 'mu_oil_cP': 11.922, 'mu_gas_cP': 0.01, 'mu_wat_cP': 1.261, 'rho_oil_rc_kgm3': 821.008, 'rho_gas_rc_kgm3': 10.099, 'rho_wat_rc_kgm3': 1098.447, 'compressibility_oil_1atm': 0.070615, 'compressibility_gas_1atm': 0.103882, 'compressibility_wat_1atm': 3.3e-05, 'sigma_liq_Nm': 0.028, 'sigma_oil_gas_Nm': 0.028, 'sigma_wat_gas_Nm': 0.064, 'cp_oil_JkgC': 2404.42, 'cp_gas_JkgC': 1779.876, 'cv_gas_JkgC': 1434.634, 'cp_wat_JkgC': 4176, 'z': 0.964, 'sal_ppm': 136861.032}\n"
     ]
    }
   ],
   "source": [
    "# получаем результат расчета в виде json строки\n",
    "r = unf.PVT_calc(10,20, fluid)\n",
    "\n",
    "# преобразуем результат в словарь\n",
    "rd = json.loads(r)\n",
    "\n",
    "# если словарь напечатать, то получим json подобную строку\n",
    "print(rd)"
   ]
  },
  {
   "cell_type": "code",
   "execution_count": 15,
   "id": "641d1d15",
   "metadata": {},
   "outputs": [
    {
     "name": "stdout",
     "output_type": "stream",
     "text": [
      "dict_keys(['rs_m3m3', 'pb_atma', 'bo_m3m3', 'bg_m3m3', 'bw_m3m3', 'mu_oil_cP', 'mu_gas_cP', 'mu_wat_cP', 'rho_oil_rc_kgm3', 'rho_gas_rc_kgm3', 'rho_wat_rc_kgm3', 'compressibility_oil_1atm', 'compressibility_gas_1atm', 'compressibility_wat_1atm', 'sigma_liq_Nm', 'sigma_oil_gas_Nm', 'sigma_wat_gas_Nm', 'cp_oil_JkgC', 'cp_gas_JkgC', 'cv_gas_JkgC', 'cp_wat_JkgC', 'z', 'sal_ppm'])\n"
     ]
    }
   ],
   "source": [
    "# но со словарем можно работать достаточно гибко\n",
    "print(rd.keys())"
   ]
  },
  {
   "cell_type": "code",
   "execution_count": 16,
   "id": "c4ffd5eb",
   "metadata": {},
   "outputs": [
    {
     "name": "stdout",
     "output_type": "stream",
     "text": [
      "6.02\n"
     ]
    }
   ],
   "source": [
    "print(rd['rs_m3m3'])"
   ]
  },
  {
   "cell_type": "code",
   "execution_count": null,
   "id": "9dadb179-15d0-415d-9818-1f0a836e9fa9",
   "metadata": {},
   "outputs": [],
   "source": []
  }
 ],
 "metadata": {
  "kernelspec": {
   "display_name": "Python 3 (ipykernel)",
   "language": "python",
   "name": "python3"
  },
  "language_info": {
   "codemirror_mode": {
    "name": "ipython",
    "version": 3
   },
   "file_extension": ".py",
   "mimetype": "text/x-python",
   "name": "python",
   "nbconvert_exporter": "python",
   "pygments_lexer": "ipython3",
   "version": "3.12.3"
  }
 },
 "nbformat": 4,
 "nbformat_minor": 5
}
